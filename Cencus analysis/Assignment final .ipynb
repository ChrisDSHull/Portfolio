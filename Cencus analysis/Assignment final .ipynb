{
 "cells": [
  {
   "attachments": {},
   "cell_type": "markdown",
   "id": "10f4986e",
   "metadata": {},
   "source": [
    "importing packages and creating dataframe"
   ]
  },
  {
   "cell_type": "code",
   "execution_count": 38,
   "id": "6d4f9c21",
   "metadata": {},
   "outputs": [],
   "source": [
    "import csv\n",
    "import pandas as pd \n",
    "import numpy as np \n",
    "import seaborn as sns \n",
    "import matplotlib.pyplot as plt\n",
    "from statistics import mean\n",
    "#https://www.geeksforgeeks.org/find-average-list-python/"
   ]
  },
  {
   "cell_type": "code",
   "execution_count": 39,
   "id": "b3c3603d",
   "metadata": {},
   "outputs": [
    {
     "name": "stdout",
     "output_type": "stream",
     "text": [
      "<class 'pandas.core.frame.DataFrame'>\n",
      "RangeIndex: 8660 entries, 0 to 8659\n",
      "Data columns (total 12 columns):\n",
      " #   Column                         Non-Null Count  Dtype \n",
      "---  ------                         --------------  ----- \n",
      " 0   Unnamed: 0                     8660 non-null   int64 \n",
      " 1   House Number                   8660 non-null   int64 \n",
      " 2   Street                         8660 non-null   object\n",
      " 3   First Name                     8660 non-null   object\n",
      " 4   Surname                        8660 non-null   object\n",
      " 5   Age                            8660 non-null   object\n",
      " 6   Relationship to Head of House  8660 non-null   object\n",
      " 7   Marital Status                 6780 non-null   object\n",
      " 8   Gender                         8660 non-null   object\n",
      " 9   Occupation                     8660 non-null   object\n",
      " 10  Infirmity                      8660 non-null   object\n",
      " 11  Religion                       6720 non-null   object\n",
      "dtypes: int64(2), object(10)\n",
      "memory usage: 812.0+ KB\n"
     ]
    }
   ],
   "source": [
    "standard_df=pd.read_csv(\"./Assignment data original.csv\")\n",
    "standard_df.info()\n",
    "#create dataframe\n"
   ]
  },
  {
   "attachments": {},
   "cell_type": "markdown",
   "id": "4d6046ec",
   "metadata": {},
   "source": [
    "Initial exploration and cleaning "
   ]
  },
  {
   "cell_type": "code",
   "execution_count": 40,
   "id": "2d144cf5",
   "metadata": {},
   "outputs": [],
   "source": [
    "#from pandas_profiling import ProfileReport"
   ]
  },
  {
   "cell_type": "code",
   "execution_count": 41,
   "id": "59cb212b",
   "metadata": {
    "scrolled": false
   },
   "outputs": [],
   "source": [
    "#standard_df.profile_report()"
   ]
  },
  {
   "cell_type": "code",
   "execution_count": 42,
   "id": "da3b87f9",
   "metadata": {},
   "outputs": [
    {
     "name": "stdout",
     "output_type": "stream",
     "text": [
      "<class 'pandas.core.frame.DataFrame'>\n",
      "RangeIndex: 8660 entries, 0 to 8659\n",
      "Data columns (total 12 columns):\n",
      " #   Column                         Non-Null Count  Dtype \n",
      "---  ------                         --------------  ----- \n",
      " 0   Unnamed: 0                     8660 non-null   int64 \n",
      " 1   House Number                   8660 non-null   int64 \n",
      " 2   Street                         8660 non-null   object\n",
      " 3   First Name                     8660 non-null   object\n",
      " 4   Surname                        8660 non-null   object\n",
      " 5   Age                            8660 non-null   object\n",
      " 6   Relationship to Head of House  8660 non-null   object\n",
      " 7   Marital Status                 6780 non-null   object\n",
      " 8   Gender                         8660 non-null   object\n",
      " 9   Occupation                     8660 non-null   object\n",
      " 10  Infirmity                      8660 non-null   object\n",
      " 11  Religion                       6720 non-null   object\n",
      "dtypes: int64(2), object(10)\n",
      "memory usage: 812.0+ KB\n",
      "None\n"
     ]
    }
   ],
   "source": [
    "print(standard_df.info())"
   ]
  },
  {
   "cell_type": "code",
   "execution_count": 43,
   "id": "9eee02e3",
   "metadata": {},
   "outputs": [
    {
     "name": "stdout",
     "output_type": "stream",
     "text": [
      "Unnamed: 0                          0\n",
      "House Number                        0\n",
      "Street                              0\n",
      "First Name                          0\n",
      "Surname                             0\n",
      "Age                                 0\n",
      "Relationship to Head of House       0\n",
      "Marital Status                   1880\n",
      "Gender                              0\n",
      "Occupation                          0\n",
      "Infirmity                           0\n",
      "Religion                         1940\n",
      "dtype: int64\n"
     ]
    }
   ],
   "source": [
    "print(standard_df.isnull().sum())\n",
    "\n",
    "#locating null values "
   ]
  },
  {
   "attachments": {},
   "cell_type": "markdown",
   "id": "45f49273",
   "metadata": {},
   "source": [
    "Age"
   ]
  },
  {
   "cell_type": "code",
   "execution_count": 44,
   "id": "275fb893",
   "metadata": {},
   "outputs": [
    {
     "name": "stderr",
     "output_type": "stream",
     "text": [
      "C:\\Users\\Matty\\AppData\\Local\\Temp\\ipykernel_20732\\601210022.py:4: SettingWithCopyWarning: \n",
      "A value is trying to be set on a copy of a slice from a DataFrame\n",
      "\n",
      "See the caveats in the documentation: https://pandas.pydata.org/pandas-docs/stable/user_guide/indexing.html#returning-a-view-versus-a-copy\n",
      "  standard_df['Age'][i]= int(float(standard_df['Age'][i]))\n"
     ]
    },
    {
     "name": "stdout",
     "output_type": "stream",
     "text": [
      "[4800]\n"
     ]
    }
   ],
   "source": [
    "error_rows = []\n",
    "for i in range(len(standard_df['Age'])):\n",
    "    try:\n",
    "        standard_df['Age'][i]= int(float(standard_df['Age'][i]))\n",
    "    except:\n",
    "        error_rows.append(i)\n",
    "        \n",
    "\n",
    "print(error_rows)\n",
    "# converting all values to floats and printing \n",
    "#the locations of any problematic rows "
   ]
  },
  {
   "cell_type": "code",
   "execution_count": 45,
   "id": "749e168b",
   "metadata": {},
   "outputs": [
    {
     "name": "stdout",
     "output_type": "stream",
     "text": [
      "4800    three\n",
      "Name: Age, dtype: object\n",
      "4800    3\n",
      "Name: Age, dtype: int64\n"
     ]
    }
   ],
   "source": [
    "print (standard_df['Age'][error_rows])\n",
    "standard_df['Age'] = standard_df['Age'].replace('three', 3)\n",
    "print (standard_df['Age'][error_rows])\n",
    "#correcting erronious rows"
   ]
  },
  {
   "cell_type": "code",
   "execution_count": 46,
   "id": "c904c8c8",
   "metadata": {},
   "outputs": [
    {
     "name": "stdout",
     "output_type": "stream",
     "text": [
      "line 3220 changed\n",
      "1 line(s) changed\n",
      "37\n"
     ]
    },
    {
     "name": "stderr",
     "output_type": "stream",
     "text": [
      "C:\\Users\\Matty\\AppData\\Local\\Temp\\ipykernel_20732\\261906380.py:5: SettingWithCopyWarning: \n",
      "A value is trying to be set on a copy of a slice from a DataFrame\n",
      "\n",
      "See the caveats in the documentation: https://pandas.pydata.org/pandas-docs/stable/user_guide/indexing.html#returning-a-view-versus-a-copy\n",
      "  standard_df['Age'][i] = int((standard_df['Age'].mean()))\n"
     ]
    }
   ],
   "source": [
    "x=0\n",
    "for i in range(len(standard_df['Age'])):\n",
    "    \n",
    "    if standard_df['Age'][i] > 122:# oldest person ever\n",
    "        standard_df['Age'][i] = int((standard_df['Age'].mean()))\n",
    "        x=x+1\n",
    "        print(f'line {i} changed')\n",
    "\n",
    "print(f'{x} line(s) changed')\n",
    "\n",
    "print(standard_df['Age'][3220])\n",
    "#finding, fixing and reporting values for age older than the oldest person"
   ]
  },
  {
   "cell_type": "code",
   "execution_count": 47,
   "id": "9c04e2a0",
   "metadata": {},
   "outputs": [
    {
     "name": "stdout",
     "output_type": "stream",
     "text": [
      "119\n",
      "0\n",
      "37.547806004618934\n"
     ]
    }
   ],
   "source": [
    "print(max(standard_df['Age']))\n",
    "\n",
    "print(min(standard_df['Age']))\n",
    "\n",
    "print(standard_df['Age'].mean())\n",
    "#confirming ages are reasonable"
   ]
  },
  {
   "cell_type": "code",
   "execution_count": 48,
   "id": "4d8bc628",
   "metadata": {},
   "outputs": [
    {
     "data": {
      "image/png": "[encoded data removed]",
      "text/plain": [
       "<Figure size 500x500 with 1 Axes>"
      ]
     },
     "metadata": {},
     "output_type": "display_data"
    }
   ],
   "source": [
    "age_hist = sns.displot(standard_df['Age'], binwidth= 10, color = 'darkred')\n",
    "plt.show()\n",
    "age_hist.figure.savefig('./age_hist.png')\n",
    "#plotting age on a histogram to check for suspicous distrobutions"
   ]
  },
  {
   "attachments": {},
   "cell_type": "markdown",
   "id": "3173c7c1",
   "metadata": {},
   "source": [
    "Gender"
   ]
  },
  {
   "cell_type": "code",
   "execution_count": 49,
   "id": "611c6164",
   "metadata": {},
   "outputs": [
    {
     "name": "stdout",
     "output_type": "stream",
     "text": [
      "['Male' 'Female' 'female' 'f' 'male' 'M' 'F' ' ' 'm']\n",
      "['Male' 'Female' 'No Response']\n"
     ]
    }
   ],
   "source": [
    "print(standard_df['Gender'].unique())\n",
    "#3 people have no gender\n",
    "standard_df['Gender'] = standard_df['Gender'].replace([' ','m', 'male', 'M', 'f','female', 'F'],['No Response','Male', 'Male', 'Male', 'Female', 'Female', 'Female'])\n",
    "#standardising gender\n",
    "print(standard_df['Gender'].unique())"
   ]
  },
  {
   "cell_type": "code",
   "execution_count": 50,
   "id": "2dfd0544",
   "metadata": {},
   "outputs": [
    {
     "name": "stdout",
     "output_type": "stream",
     "text": [
      "Female         4545\n",
      "Male           4112\n",
      "No Response       3\n",
      "Name: Gender, dtype: int64\n"
     ]
    }
   ],
   "source": [
    "print(standard_df['Gender'].value_counts())\n",
    "#checking for reasonable distrobution in gender"
   ]
  },
  {
   "cell_type": "code",
   "execution_count": 51,
   "id": "816fe9e7",
   "metadata": {},
   "outputs": [
    {
     "name": "stdout",
     "output_type": "stream",
     "text": [
      "Single      3067\n",
      "Married     2349\n",
      "Divorced     872\n",
      "Widowed      471\n",
      "D              8\n",
      "S              7\n",
      "W              4\n",
      "               1\n",
      "M              1\n",
      "Name: Marital Status, dtype: int64\n",
      "Single      3075\n",
      "Married     2350\n",
      "Divorced     880\n",
      "Widowed      475\n",
      "Name: Marital Status, dtype: int64\n",
      "1880\n"
     ]
    }
   ],
   "source": [
    "print(standard_df['Marital Status'].value_counts())\n",
    "#checking for errors in responses\n",
    "standard_df['Marital Status'] = standard_df['Marital Status'].replace([' ','S','D','W','M'], ['Single','Single', 'Divorced','Widowed','Married'])\n",
    "#standardising responses\n",
    "print(standard_df['Marital Status'].value_counts())\n",
    "#validating responses are stndardised\n",
    "print(standard_df['Marital Status'].isnull().sum())\n",
    "#checking for null values"
   ]
  },
  {
   "cell_type": "code",
   "execution_count": 52,
   "id": "8c2ec7e8",
   "metadata": {},
   "outputs": [
    {
     "name": "stderr",
     "output_type": "stream",
     "text": [
      "C:\\Users\\Matty\\AppData\\Local\\Temp\\ipykernel_20732\\3483230816.py:3: SettingWithCopyWarning: \n",
      "A value is trying to be set on a copy of a slice from a DataFrame\n",
      "\n",
      "See the caveats in the documentation: https://pandas.pydata.org/pandas-docs/stable/user_guide/indexing.html#returning-a-view-versus-a-copy\n",
      "  standard_df['Marital Status'][i] = 'Child'\n"
     ]
    },
    {
     "name": "stdout",
     "output_type": "stream",
     "text": [
      "Single      3074\n",
      "Married     2348\n",
      "Child       1883\n",
      "Divorced     880\n",
      "Widowed      475\n",
      "Name: Marital Status, dtype: int64\n",
      "0\n"
     ]
    }
   ],
   "source": [
    "for i in range(len(standard_df['Age'])):\n",
    "    if standard_df['Age'][i] <18:\n",
    "        standard_df['Marital Status'][i] = 'Child'\n",
    "#telegraphing children as such\n",
    "print(standard_df['Marital Status'].value_counts())\n",
    "#checking children have been added\n",
    "print(standard_df['Marital Status'].isnull().sum())\n",
    "#checking all null values were removed with the reclassification of children"
   ]
  },
  {
   "cell_type": "code",
   "execution_count": 53,
   "id": "f6a0e226",
   "metadata": {},
   "outputs": [
    {
     "name": "stdout",
     "output_type": "stream",
     "text": [
      "37.547806004618934\n",
      "37.0\n",
      "21.987302677229476\n"
     ]
    }
   ],
   "source": [
    "print(standard_df['Age'].mean())\n",
    "print(standard_df['Age'].median())\n",
    "print(np.std(standard_df['Age']))\n",
    "#descriptive statistics for age"
   ]
  },
  {
   "attachments": {},
   "cell_type": "markdown",
   "id": "bf7d7269",
   "metadata": {},
   "source": [
    "Employment status"
   ]
  },
  {
   "cell_type": "code",
   "execution_count": 54,
   "id": "5301d264",
   "metadata": {},
   "outputs": [
    {
     "name": "stderr",
     "output_type": "stream",
     "text": [
      "C:\\Users\\Matty\\AppData\\Local\\Temp\\ipykernel_20732\\3328442495.py:12: SettingWithCopyWarning: \n",
      "A value is trying to be set on a copy of a slice from a DataFrame\n",
      "\n",
      "See the caveats in the documentation: https://pandas.pydata.org/pandas-docs/stable/user_guide/indexing.html#returning-a-view-versus-a-copy\n",
      "  standard_df['Employment_Status'][i] = 'Employed'\n",
      "C:\\Users\\Matty\\AppData\\Local\\Temp\\ipykernel_20732\\3328442495.py:8: SettingWithCopyWarning: \n",
      "A value is trying to be set on a copy of a slice from a DataFrame\n",
      "\n",
      "See the caveats in the documentation: https://pandas.pydata.org/pandas-docs/stable/user_guide/indexing.html#returning-a-view-versus-a-copy\n",
      "  standard_df['Employment_Status'][i] = 'Unemployed'\n",
      "C:\\Users\\Matty\\AppData\\Local\\Temp\\ipykernel_20732\\3328442495.py:6: SettingWithCopyWarning: \n",
      "A value is trying to be set on a copy of a slice from a DataFrame\n",
      "\n",
      "See the caveats in the documentation: https://pandas.pydata.org/pandas-docs/stable/user_guide/indexing.html#returning-a-view-versus-a-copy\n",
      "  standard_df['Employment_Status'][i] = 'Retired'\n",
      "C:\\Users\\Matty\\AppData\\Local\\Temp\\ipykernel_20732\\3328442495.py:4: SettingWithCopyWarning: \n",
      "A value is trying to be set on a copy of a slice from a DataFrame\n",
      "\n",
      "See the caveats in the documentation: https://pandas.pydata.org/pandas-docs/stable/user_guide/indexing.html#returning-a-view-versus-a-copy\n",
      "  standard_df['Employment_Status'][i] = 'Child'\n",
      "C:\\Users\\Matty\\AppData\\Local\\Temp\\ipykernel_20732\\3328442495.py:10: SettingWithCopyWarning: \n",
      "A value is trying to be set on a copy of a slice from a DataFrame\n",
      "\n",
      "See the caveats in the documentation: https://pandas.pydata.org/pandas-docs/stable/user_guide/indexing.html#returning-a-view-versus-a-copy\n",
      "  standard_df['Employment_Status'][i] = 'Student'\n"
     ]
    },
    {
     "name": "stdout",
     "output_type": "stream",
     "text": [
      "Employed      4741\n",
      "Child         1883\n",
      "Retired        915\n",
      "Unemployed     596\n",
      "Student        525\n",
      "Name: Employment_Status, dtype: int64\n"
     ]
    }
   ],
   "source": [
    "standard_df['Employment_Status']  = standard_df['Occupation']\n",
    "for i in range(len(standard_df['Occupation'])):\n",
    "    if standard_df['Age'][i] < 18:\n",
    "        standard_df['Employment_Status'][i] = 'Child'\n",
    "    elif standard_df['Occupation'][i].split(' ')[0]=='Retired':\n",
    "        standard_df['Employment_Status'][i] = 'Retired'\n",
    "    elif standard_df['Occupation'][i] == 'Unemployed':\n",
    "        standard_df['Employment_Status'][i] = 'Unemployed'\n",
    "    elif standard_df['Occupation'][i] == 'University Student':\n",
    "        standard_df['Employment_Status'][i] = 'Student'\n",
    "    else:\n",
    "        standard_df['Employment_Status'][i] = 'Employed'\n",
    "#creating values for employment status based on occupation\n",
    "print(standard_df['Employment_Status'].value_counts())\n",
    "#printing values"
   ]
  },
  {
   "cell_type": "code",
   "execution_count": 55,
   "id": "1816553e",
   "metadata": {},
   "outputs": [
    {
     "name": "stdout",
     "output_type": "stream",
     "text": [
      "Employed      54.745958\n",
      "Child         21.743649\n",
      "Retired       10.565820\n",
      "Unemployed     6.882217\n",
      "Student        6.062356\n",
      "Name: Employment_Status, dtype: float64\n"
     ]
    }
   ],
   "source": [
    "print(standard_df['Employment_Status'].value_counts(normalize = True)*100)\n",
    "#employment rate includeing children"
   ]
  },
  {
   "cell_type": "code",
   "execution_count": 56,
   "id": "57a9ffc2",
   "metadata": {},
   "outputs": [
    {
     "name": "stdout",
     "output_type": "stream",
     "text": [
      "Employed      69.957208\n",
      "Retired       13.501549\n",
      "Unemployed     8.794452\n",
      "Student        7.746791\n",
      "Name: Employment_Status, dtype: float64\n"
     ]
    }
   ],
   "source": [
    "print(standard_df[standard_df.Age >=18]['Employment_Status'].value_counts(normalize = True)*100)\n",
    "#employment rate not including children"
   ]
  },
  {
   "cell_type": "code",
   "execution_count": 57,
   "id": "e13c687d",
   "metadata": {},
   "outputs": [
    {
     "name": "stdout",
     "output_type": "stream",
     "text": [
      "Employed      72.438947\n",
      "Retired       13.859816\n",
      "Student        7.675230\n",
      "Unemployed     6.026007\n",
      "Name: Employment_Status, dtype: float64\n"
     ]
    },
    {
     "name": "stderr",
     "output_type": "stream",
     "text": [
      "C:\\Users\\Matty\\AppData\\Local\\Temp\\ipykernel_20732\\24951718.py:1: UserWarning: Boolean Series key will be reindexed to match DataFrame index.\n",
      "  print(standard_df[standard_df.Gender == 'Male'][standard_df.Age >= 18]['Employment_Status'].value_counts(normalize = True)*100)\n"
     ]
    }
   ],
   "source": [
    "print(standard_df[standard_df.Gender == 'Male'][standard_df.Age >= 18]['Employment_Status'].value_counts(normalize = True)*100)\n",
    "#male employment rate not including children"
   ]
  },
  {
   "cell_type": "code",
   "execution_count": 58,
   "id": "676daea7",
   "metadata": {},
   "outputs": [
    {
     "name": "stdout",
     "output_type": "stream",
     "text": [
      "Employed      67.826567\n",
      "Retired       13.173157\n",
      "Unemployed    11.212372\n",
      "Student        7.787904\n",
      "Name: Employment_Status, dtype: float64\n"
     ]
    },
    {
     "name": "stderr",
     "output_type": "stream",
     "text": [
      "C:\\Users\\Matty\\AppData\\Local\\Temp\\ipykernel_20732\\3825826300.py:1: UserWarning: Boolean Series key will be reindexed to match DataFrame index.\n",
      "  print(standard_df[standard_df.Gender == 'Female'][standard_df.Age >= 18]['Employment_Status'].value_counts(normalize = True)*100)\n"
     ]
    }
   ],
   "source": [
    "print(standard_df[standard_df.Gender == 'Female'][standard_df.Age >= 18]['Employment_Status'].value_counts(normalize = True)*100)\n",
    "#female employment rate not including children"
   ]
  },
  {
   "cell_type": "code",
   "execution_count": 59,
   "id": "9c276a1b",
   "metadata": {},
   "outputs": [
    {
     "name": "stdout",
     "output_type": "stream",
     "text": [
      "mean age of retired people\n"
     ]
    },
    {
     "data": {
      "text/plain": [
       "76.54863387978142"
      ]
     },
     "execution_count": 59,
     "metadata": {},
     "output_type": "execute_result"
    }
   ],
   "source": [
    "print('mean age of retired people')\n",
    "standard_df['Age'][standard_df.Employment_Status == 'Retired'].mean()\n",
    "#mean age of retired people"
   ]
  },
  {
   "attachments": {},
   "cell_type": "markdown",
   "id": "240dcd78",
   "metadata": {},
   "source": [
    "Addresses"
   ]
  },
  {
   "cell_type": "code",
   "execution_count": 60,
   "id": "f207adbe",
   "metadata": {},
   "outputs": [
    {
     "name": "stdout",
     "output_type": "stream",
     "text": [
      "3417\n",
      "2.534094234708809\n"
     ]
    }
   ],
   "source": [
    "standard_df['Full Address'] = standard_df['House Number'].astype(str) + ' ' + standard_df['Street']\n",
    "#combining house number and street \n",
    "print(standard_df['Full Address'].nunique())\n",
    "#reference: https://www.w3schools.com/python/pandas/ref_df_nunique.asp#:~:text=The%20nunique()%20method%20returns,unique%20values%20for%20each%20row.\n",
    "#3417 individual households\n",
    "print(8659/3417)\n",
    "#working out occupants per household\n"
   ]
  },
  {
   "attachments": {},
   "cell_type": "markdown",
   "id": "5e1d8786",
   "metadata": {},
   "source": [
    "Occupancy"
   ]
  },
  {
   "cell_type": "code",
   "execution_count": 61,
   "id": "6ce1bc5f",
   "metadata": {},
   "outputs": [
    {
     "data": {
      "text/html": [
       "<div>\n",
       "<style scoped>\n",
       "    .dataframe tbody tr th:only-of-type {\n",
       "        vertical-align: middle;\n",
       "    }\n",
       "\n",
       "    .dataframe tbody tr th {\n",
       "        vertical-align: top;\n",
       "    }\n",
       "\n",
       "    .dataframe thead th {\n",
       "        text-align: right;\n",
       "    }\n",
       "</style>\n",
       "<table border=\"1\" class=\"dataframe\">\n",
       "  <thead>\n",
       "    <tr style=\"text-align: right;\">\n",
       "      <th></th>\n",
       "      <th>Unnamed: 0</th>\n",
       "      <th>House Number</th>\n",
       "      <th>Street</th>\n",
       "      <th>First Name</th>\n",
       "      <th>Surname</th>\n",
       "      <th>Age</th>\n",
       "      <th>Relationship to Head of House</th>\n",
       "      <th>Marital Status</th>\n",
       "      <th>Gender</th>\n",
       "      <th>Occupation</th>\n",
       "      <th>Infirmity</th>\n",
       "      <th>Religion</th>\n",
       "      <th>Employment_Status</th>\n",
       "      <th>Full Address</th>\n",
       "      <th>Occupancy</th>\n",
       "    </tr>\n",
       "  </thead>\n",
       "  <tbody>\n",
       "    <tr>\n",
       "      <th>0</th>\n",
       "      <td>0</td>\n",
       "      <td>1</td>\n",
       "      <td>Dixon Drive</td>\n",
       "      <td>Leon</td>\n",
       "      <td>Clark</td>\n",
       "      <td>64</td>\n",
       "      <td>Head</td>\n",
       "      <td>Married</td>\n",
       "      <td>Male</td>\n",
       "      <td>Engineer, energy</td>\n",
       "      <td>None</td>\n",
       "      <td>Christian</td>\n",
       "      <td>Employed</td>\n",
       "      <td>1 Dixon Drive</td>\n",
       "      <td>2</td>\n",
       "    </tr>\n",
       "    <tr>\n",
       "      <th>1</th>\n",
       "      <td>1</td>\n",
       "      <td>1</td>\n",
       "      <td>Dixon Drive</td>\n",
       "      <td>Lauren</td>\n",
       "      <td>Turnbull</td>\n",
       "      <td>63</td>\n",
       "      <td>Wife</td>\n",
       "      <td>Married</td>\n",
       "      <td>Female</td>\n",
       "      <td>Psychiatrist</td>\n",
       "      <td>None</td>\n",
       "      <td>Christian</td>\n",
       "      <td>Employed</td>\n",
       "      <td>1 Dixon Drive</td>\n",
       "      <td>2</td>\n",
       "    </tr>\n",
       "    <tr>\n",
       "      <th>2</th>\n",
       "      <td>2</td>\n",
       "      <td>2</td>\n",
       "      <td>Dixon Drive</td>\n",
       "      <td>Katie</td>\n",
       "      <td>Kirby</td>\n",
       "      <td>57</td>\n",
       "      <td>Head</td>\n",
       "      <td>Single</td>\n",
       "      <td>Female</td>\n",
       "      <td>Unemployed</td>\n",
       "      <td>None</td>\n",
       "      <td>Christian</td>\n",
       "      <td>Unemployed</td>\n",
       "      <td>2 Dixon Drive</td>\n",
       "      <td>4</td>\n",
       "    </tr>\n",
       "    <tr>\n",
       "      <th>3</th>\n",
       "      <td>3</td>\n",
       "      <td>2</td>\n",
       "      <td>Dixon Drive</td>\n",
       "      <td>Jordan</td>\n",
       "      <td>Kirby</td>\n",
       "      <td>30</td>\n",
       "      <td>Son</td>\n",
       "      <td>Single</td>\n",
       "      <td>Male</td>\n",
       "      <td>Engineer, biomedical</td>\n",
       "      <td>None</td>\n",
       "      <td>Christian</td>\n",
       "      <td>Employed</td>\n",
       "      <td>2 Dixon Drive</td>\n",
       "      <td>4</td>\n",
       "    </tr>\n",
       "    <tr>\n",
       "      <th>4</th>\n",
       "      <td>4</td>\n",
       "      <td>2</td>\n",
       "      <td>Dixon Drive</td>\n",
       "      <td>Gareth</td>\n",
       "      <td>Kirby</td>\n",
       "      <td>28</td>\n",
       "      <td>Son</td>\n",
       "      <td>Single</td>\n",
       "      <td>Male</td>\n",
       "      <td>Surveyor, building control</td>\n",
       "      <td>None</td>\n",
       "      <td>Christian</td>\n",
       "      <td>Employed</td>\n",
       "      <td>2 Dixon Drive</td>\n",
       "      <td>4</td>\n",
       "    </tr>\n",
       "    <tr>\n",
       "      <th>...</th>\n",
       "      <td>...</td>\n",
       "      <td>...</td>\n",
       "      <td>...</td>\n",
       "      <td>...</td>\n",
       "      <td>...</td>\n",
       "      <td>...</td>\n",
       "      <td>...</td>\n",
       "      <td>...</td>\n",
       "      <td>...</td>\n",
       "      <td>...</td>\n",
       "      <td>...</td>\n",
       "      <td>...</td>\n",
       "      <td>...</td>\n",
       "      <td>...</td>\n",
       "      <td>...</td>\n",
       "    </tr>\n",
       "    <tr>\n",
       "      <th>8655</th>\n",
       "      <td>8655</td>\n",
       "      <td>1</td>\n",
       "      <td>December Manor</td>\n",
       "      <td>Kevin</td>\n",
       "      <td>Brown</td>\n",
       "      <td>22</td>\n",
       "      <td>None</td>\n",
       "      <td>Single</td>\n",
       "      <td>Male</td>\n",
       "      <td>University Student</td>\n",
       "      <td>None</td>\n",
       "      <td>None</td>\n",
       "      <td>Student</td>\n",
       "      <td>1 December Manor</td>\n",
       "      <td>12</td>\n",
       "    </tr>\n",
       "    <tr>\n",
       "      <th>8656</th>\n",
       "      <td>8656</td>\n",
       "      <td>1</td>\n",
       "      <td>December Manor</td>\n",
       "      <td>Ashleigh</td>\n",
       "      <td>Porter</td>\n",
       "      <td>43</td>\n",
       "      <td>None</td>\n",
       "      <td>Single</td>\n",
       "      <td>Female</td>\n",
       "      <td>Barista</td>\n",
       "      <td>None</td>\n",
       "      <td>None</td>\n",
       "      <td>Employed</td>\n",
       "      <td>1 December Manor</td>\n",
       "      <td>12</td>\n",
       "    </tr>\n",
       "    <tr>\n",
       "      <th>8657</th>\n",
       "      <td>8657</td>\n",
       "      <td>1</td>\n",
       "      <td>December Manor</td>\n",
       "      <td>Marilyn</td>\n",
       "      <td>Smith</td>\n",
       "      <td>42</td>\n",
       "      <td>None</td>\n",
       "      <td>Single</td>\n",
       "      <td>Female</td>\n",
       "      <td>Clinical scientist, histocompatibility and imm...</td>\n",
       "      <td>None</td>\n",
       "      <td>Christian</td>\n",
       "      <td>Employed</td>\n",
       "      <td>1 December Manor</td>\n",
       "      <td>12</td>\n",
       "    </tr>\n",
       "    <tr>\n",
       "      <th>8658</th>\n",
       "      <td>8658</td>\n",
       "      <td>1</td>\n",
       "      <td>December Manor</td>\n",
       "      <td>Joanna</td>\n",
       "      <td>Steele</td>\n",
       "      <td>46</td>\n",
       "      <td>None</td>\n",
       "      <td>Single</td>\n",
       "      <td>Female</td>\n",
       "      <td>Theme park manager</td>\n",
       "      <td>None</td>\n",
       "      <td>Catholic</td>\n",
       "      <td>Employed</td>\n",
       "      <td>1 December Manor</td>\n",
       "      <td>12</td>\n",
       "    </tr>\n",
       "    <tr>\n",
       "      <th>8659</th>\n",
       "      <td>8659</td>\n",
       "      <td>1</td>\n",
       "      <td>December Manor</td>\n",
       "      <td>Dylan</td>\n",
       "      <td>Foster</td>\n",
       "      <td>39</td>\n",
       "      <td>None</td>\n",
       "      <td>Single</td>\n",
       "      <td>Male</td>\n",
       "      <td>Community development worker</td>\n",
       "      <td>None</td>\n",
       "      <td>None</td>\n",
       "      <td>Employed</td>\n",
       "      <td>1 December Manor</td>\n",
       "      <td>12</td>\n",
       "    </tr>\n",
       "  </tbody>\n",
       "</table>\n",
       "<p>8660 rows × 15 columns</p>\n",
       "</div>"
      ],
      "text/plain": [
       "      Unnamed: 0  House Number          Street First Name   Surname  Age  \\\n",
       "0              0             1     Dixon Drive       Leon     Clark   64   \n",
       "1              1             1     Dixon Drive     Lauren  Turnbull   63   \n",
       "2              2             2     Dixon Drive      Katie     Kirby   57   \n",
       "3              3             2     Dixon Drive     Jordan     Kirby   30   \n",
       "4              4             2     Dixon Drive     Gareth     Kirby   28   \n",
       "...          ...           ...             ...        ...       ...  ...   \n",
       "8655        8655             1  December Manor      Kevin     Brown   22   \n",
       "8656        8656             1  December Manor   Ashleigh    Porter   43   \n",
       "8657        8657             1  December Manor    Marilyn     Smith   42   \n",
       "8658        8658             1  December Manor     Joanna    Steele   46   \n",
       "8659        8659             1  December Manor      Dylan    Foster   39   \n",
       "\n",
       "     Relationship to Head of House Marital Status  Gender  \\\n",
       "0                             Head        Married    Male   \n",
       "1                             Wife        Married  Female   \n",
       "2                             Head         Single  Female   \n",
       "3                              Son         Single    Male   \n",
       "4                              Son         Single    Male   \n",
       "...                            ...            ...     ...   \n",
       "8655                          None         Single    Male   \n",
       "8656                          None         Single  Female   \n",
       "8657                          None         Single  Female   \n",
       "8658                          None         Single  Female   \n",
       "8659                          None         Single    Male   \n",
       "\n",
       "                                             Occupation Infirmity   Religion  \\\n",
       "0                                      Engineer, energy      None  Christian   \n",
       "1                                          Psychiatrist      None  Christian   \n",
       "2                                            Unemployed      None  Christian   \n",
       "3                                  Engineer, biomedical      None  Christian   \n",
       "4                            Surveyor, building control      None  Christian   \n",
       "...                                                 ...       ...        ...   \n",
       "8655                                 University Student      None       None   \n",
       "8656                                            Barista      None       None   \n",
       "8657  Clinical scientist, histocompatibility and imm...      None  Christian   \n",
       "8658                                 Theme park manager      None   Catholic   \n",
       "8659                       Community development worker      None       None   \n",
       "\n",
       "     Employment_Status      Full Address  Occupancy  \n",
       "0             Employed     1 Dixon Drive          2  \n",
       "1             Employed     1 Dixon Drive          2  \n",
       "2           Unemployed     2 Dixon Drive          4  \n",
       "3             Employed     2 Dixon Drive          4  \n",
       "4             Employed     2 Dixon Drive          4  \n",
       "...                ...               ...        ...  \n",
       "8655           Student  1 December Manor         12  \n",
       "8656          Employed  1 December Manor         12  \n",
       "8657          Employed  1 December Manor         12  \n",
       "8658          Employed  1 December Manor         12  \n",
       "8659          Employed  1 December Manor         12  \n",
       "\n",
       "[8660 rows x 15 columns]"
      ]
     },
     "metadata": {},
     "output_type": "display_data"
    },
    {
     "data": {
      "text/plain": [
       "33324"
      ]
     },
     "execution_count": 61,
     "metadata": {},
     "output_type": "execute_result"
    }
   ],
   "source": [
    "standard_df['Occupancy'] = standard_df.groupby('Full Address')['Full Address'].transform('count')\n",
    "#adding occupancy to the df by grouping the same address together\n",
    "#https://towardsdatascience.com/count-occurrences-of-a-value-pandas-e5dad02303e9\n",
    "display(standard_df)\n",
    "standard_df['Occupancy'].sum()\n",
    "#confirming occupancy is correct and checking number of houses"
   ]
  },
  {
   "cell_type": "code",
   "execution_count": 62,
   "id": "2f5c06a8",
   "metadata": {},
   "outputs": [
    {
     "data": {
      "text/plain": [
       "87"
      ]
     },
     "execution_count": 62,
     "metadata": {},
     "output_type": "execute_result"
    }
   ],
   "source": [
    "standard_df['Age'][standard_df.Occupancy ==1].max()-standard_df['Age'][standard_df.Occupancy ==1].min()\n",
    "#finding occupancy range"
   ]
  },
  {
   "cell_type": "code",
   "execution_count": 63,
   "id": "1061f9c1",
   "metadata": {},
   "outputs": [
    {
     "data": {
      "text/plain": [
       "count    8660.000000\n",
       "mean        3.848037\n",
       "std         3.021156\n",
       "min         1.000000\n",
       "25%         2.000000\n",
       "50%         3.000000\n",
       "75%         5.000000\n",
       "max        22.000000\n",
       "Name: Occupancy, dtype: float64"
      ]
     },
     "execution_count": 63,
     "metadata": {},
     "output_type": "execute_result"
    }
   ],
   "source": [
    "standard_df['Occupancy'].describe() \n",
    "#the mean is the mean for individuals not the dataset\n",
    "#for example each individual lives in a hosue with 8.85 individuals in it\n",
    "#no each house has 3.85 individuals the mean per house is 2.53"
   ]
  },
  {
   "cell_type": "code",
   "execution_count": 64,
   "id": "bce5d111",
   "metadata": {},
   "outputs": [
    {
     "name": "stdout",
     "output_type": "stream",
     "text": [
      "stats for occupancy below 6\n"
     ]
    },
    {
     "data": {
      "text/plain": [
       "93.03695150115473"
      ]
     },
     "execution_count": 64,
     "metadata": {},
     "output_type": "execute_result"
    }
   ],
   "source": [
    "print('stats for occupancy below 6')\n",
    "(standard_df['Occupancy'][standard_df.Occupancy <= 6].count()) / (standard_df['Occupancy'].count()) *100\n",
    "#percentage of poeple living in houses with 6 people or less"
   ]
  },
  {
   "cell_type": "code",
   "execution_count": 65,
   "id": "80e14b55",
   "metadata": {},
   "outputs": [
    {
     "name": "stdout",
     "output_type": "stream",
     "text": [
      "mean age of people living alone\n"
     ]
    },
    {
     "data": {
      "text/plain": [
       "count    1171.000000\n",
       "mean       55.343296\n",
       "std        20.687376\n",
       "min        18.000000\n",
       "25%        37.000000\n",
       "50%        58.000000\n",
       "75%        72.000000\n",
       "max       105.000000\n",
       "Name: Age, dtype: float64"
      ]
     },
     "execution_count": 65,
     "metadata": {},
     "output_type": "execute_result"
    }
   ],
   "source": [
    "print('mean age of people living alone')\n",
    "standard_df['Age'][standard_df.Occupancy == 1].describe()\n",
    "#mean of people living alone"
   ]
  },
  {
   "attachments": {},
   "cell_type": "markdown",
   "id": "2e2f1b90",
   "metadata": {},
   "source": [
    "Age pyramid"
   ]
  },
  {
   "cell_type": "code",
   "execution_count": 66,
   "id": "5630b911",
   "metadata": {},
   "outputs": [],
   "source": [
    "male_age = []\n",
    "female_age = []\n",
    "\n",
    "for i in range(len(standard_df['Gender'])):\n",
    "    if standard_df['Gender'][i] == 'Male':\n",
    "        male_age.append((standard_df['Age'][i]))\n",
    "    elif standard_df['Gender'][i] == 'Female':\n",
    "        female_age.append(standard_df['Age'][i])\n",
    "#adding males and females into different lists\n"
   ]
  },
  {
   "cell_type": "code",
   "execution_count": 67,
   "id": "138d8026",
   "metadata": {},
   "outputs": [
    {
     "name": "stdout",
     "output_type": "stream",
     "text": [
      "[-492, -591, -570, -621, -616, -491, -343, -264, -102, -15, -7]\n",
      "[455, 537, 571, 666, 679, 495, 327, 240, 123, 15, 4]\n"
     ]
    }
   ],
   "source": [
    "male = [0,0,0,0,0,0,0,0,0,0,0]\n",
    "female = [0,0,0,0,0,0,0,0,0,0,0]\n",
    "for i in range(len(male_age)):\n",
    "    if male_age[i] >=0 and male_age[i] <=9:\n",
    "        male[0] = male[0]+1\n",
    "    elif male_age[i] >=10 and male_age[i] <=19:\n",
    "        male[1] = male[1]+1\n",
    "    elif male_age[i] >=20 and male_age[i] <=29:\n",
    "        male[2] = male[2]+1\n",
    "    elif male_age[i] >=30 and male_age[i] <=39:\n",
    "        male[3] = male[3]+1\n",
    "    elif male_age[i] >=40 and male_age[i] <=49:\n",
    "        male[4] = male[4]+1\n",
    "    elif male_age[i] >=50 and male_age[i] <=59:\n",
    "        male[5] = male[5]+1\n",
    "    elif male_age[i] >=60 and male_age[i] <=69:\n",
    "        male[6] = male[6]+1\n",
    "    elif male_age[i] >=70 and male_age[i] <=79:\n",
    "        male[7] = male[7]+1\n",
    "    elif male_age[i] >=80 and male_age[i] <=89:\n",
    "        male[8] = male[8]+1\n",
    "    elif male_age[i] >=90 and male_age[i] <=99:\n",
    "        male[9] = male[9]+1\n",
    "    elif male_age[i] >=100:\n",
    "        male[10] = male[10]+1\n",
    "for i in range(len(male_age)):\n",
    "    if female_age[i] >=0 and female_age[i] <=9:\n",
    "        female[0] = female[0]+1\n",
    "    elif female_age[i] >=10 and female_age[i] <=19:\n",
    "        female[1] = female[1]+1\n",
    "    elif female_age[i] >=20 and female_age[i] <=29:\n",
    "        female[2] = female[2]+1\n",
    "    elif female_age[i] >=30 and female_age[i] <=39:\n",
    "        female[3] = female[3]+1\n",
    "    elif female_age[i] >=40 and female_age[i] <=49:\n",
    "        female[4] = female[4]+1\n",
    "    elif female_age[i] >=50 and female_age[i] <=59:\n",
    "        female[5] = female[5]+1\n",
    "    elif female_age[i] >=60 and female_age[i] <=69:\n",
    "        female[6] = female[6]+1\n",
    "    elif female_age[i] >=70 and female_age[i] <=79:\n",
    "        female[7] = female[7]+1\n",
    "    elif female_age[i] >=80 and female_age[i] <=89:\n",
    "        female[8] = female[8]+1\n",
    "    elif female_age[i] >=90 and female_age[i] <=99:\n",
    "        female[9] = female[9]+1\n",
    "    elif female_age[i] >=100:\n",
    "        female[10] = female[10]+1\n",
    "#seperating males and females into bins\n",
    "for i in range(len(male)):\n",
    "    male[i] = male[i]*-1\n",
    "#making all male values negative\n",
    "print(male)\n",
    "print(female)\n",
    "#validating values"
   ]
  },
  {
   "cell_type": "code",
   "execution_count": 68,
   "id": "e752ea41",
   "metadata": {},
   "outputs": [
    {
     "name": "stdout",
     "output_type": "stream",
     "text": [
      "      Age  Male  Female\n",
      "0     0-9  -492     455\n",
      "1   10-19  -591     537\n",
      "2   20-29  -570     571\n",
      "3   30-39  -621     666\n",
      "4   40-49  -616     679\n",
      "5   50-59  -491     495\n",
      "6   60-69  -343     327\n",
      "7   70-79  -264     240\n",
      "8   80-89  -102     123\n",
      "9   90-99   -15      15\n",
      "10   100+    -7       4\n"
     ]
    }
   ],
   "source": [
    "age_p = pd.DataFrame({'Age':['0-9', '10-19', '20-29', '30-39', '40-49', '50-59', '60-69', '70-79', '80-89', '90-99', '100+'], \n",
    "'Male': [i for i in male], \n",
    "'Female': [i  for i in female]})\n",
    "print(age_p)\n",
    "#creating dataframe to assign male and female values to"
   ]
  },
  {
   "cell_type": "code",
   "execution_count": 69,
   "id": "e9ebe824",
   "metadata": {},
   "outputs": [],
   "source": [
    "AgeClass = ['100+', '90-99', '80-89', '70-79', '60-69', '50-59', '40-49', '30-39', '20-29', '10-19', '0-9']\n",
    "#defining age classes"
   ]
  },
  {
   "cell_type": "code",
   "execution_count": 70,
   "id": "68a111db",
   "metadata": {},
   "outputs": [
    {
     "data": {
      "image/png": "[encoded data removed]",
      "text/plain": [
       "<Figure size 640x480 with 1 Axes>"
      ]
     },
     "metadata": {},
     "output_type": "display_data"
    }
   ],
   "source": [
    "age_pyramid = sns.barplot(x='Male', y='Age', data=age_p, order=AgeClass, \n",
    "color=('darkorange'), label='Male'), \n",
    "age_pyramid = sns.barplot(x='Female', y='Age', data=age_p, order=AgeClass, \n",
    "color=('yellow'), label='Female') \n",
    "age_pyramid.legend()\n",
    "plt.title('Age Pyramid')\n",
    "plt.xlabel('Population Count')\n",
    "plt.show()\n",
    "age_pyramid.figure.savefig('./age_pyramid.png')\n",
    "\n",
    "#constructing the population pyramid and saving it"
   ]
  },
  {
   "cell_type": "code",
   "execution_count": 71,
   "id": "092ef81b",
   "metadata": {},
   "outputs": [
    {
     "name": "stdout",
     "output_type": "stream",
     "text": [
      "None         2937\n",
      "Christian    1976\n",
      "Catholic      999\n",
      "Methodist     580\n",
      "Muslim        113\n",
      "Sikh           79\n",
      "Jewish         27\n",
      "Private         3\n",
      "Buddist         2\n",
      "Orthodoxy       2\n",
      "Jedi            1\n",
      "Baptist         1\n",
      "Name: Religion, dtype: int64\n"
     ]
    },
    {
     "name": "stderr",
     "output_type": "stream",
     "text": [
      "C:\\Users\\Matty\\AppData\\Local\\Temp\\ipykernel_20732\\2388350472.py:6: SettingWithCopyWarning: \n",
      "A value is trying to be set on a copy of a slice from a DataFrame\n",
      "\n",
      "See the caveats in the documentation: https://pandas.pydata.org/pandas-docs/stable/user_guide/indexing.html#returning-a-view-versus-a-copy\n",
      "  standard_df['Religion'][i] = 'Child'\n"
     ]
    },
    {
     "name": "stdout",
     "output_type": "stream",
     "text": [
      "0\n"
     ]
    }
   ],
   "source": [
    "print(standard_df['Religion'].value_counts())\n",
    "standard_df['Religion'] = standard_df['Religion'].fillna(method = 'ffill')\n",
    "#filling null values for religion\n",
    "for i in range(len(standard_df['Age'])):\n",
    "    if standard_df['Age'][i] <18:\n",
    "        standard_df['Religion'][i] = 'Child'\n",
    "#identifying children\n",
    "print(standard_df['Religion'].isnull().sum())\n",
    "#validating no null values "
   ]
  },
  {
   "cell_type": "code",
   "execution_count": 72,
   "id": "1f3566da",
   "metadata": {},
   "outputs": [
    {
     "name": "stdout",
     "output_type": "stream",
     "text": [
      "None         2965\n",
      "Christian    1990\n",
      "Child        1883\n",
      "Catholic     1008\n",
      "Methodist     584\n",
      "Muslim        114\n",
      "Sikh           81\n",
      "Jewish         27\n",
      "Private         3\n",
      "Buddist         2\n",
      "Orthodoxy       2\n",
      "Baptist         1\n",
      "Name: Religion, dtype: int64\n"
     ]
    }
   ],
   "source": [
    "christian_breakdown_df = standard_df.replace(['Jedi'],['None'])\n",
    "#removing Jedi as a religion\n",
    "standard_df['Religion'] = standard_df['Religion'].replace(['Jedi','Catholic', 'Methodist', 'Baptist','Orthodoxy'],['None','Christian', 'Christian', 'Christian', 'Christian'])\n",
    "#simplifying the dataframe to include christianity as one religion\n",
    "print(christian_breakdown_df['Religion'].value_counts())\n",
    "#confirming the above is done "
   ]
  },
  {
   "cell_type": "code",
   "execution_count": 73,
   "id": "cb9b9e8a",
   "metadata": {},
   "outputs": [
    {
     "name": "stdout",
     "output_type": "stream",
     "text": [
      "None         2965\n",
      "Christian    1990\n",
      "Child        1883\n",
      "Catholic     1008\n",
      "Methodist     584\n",
      "Muslim        114\n",
      "Sikh           81\n",
      "Jewish         27\n",
      "Private         3\n",
      "Buddist         2\n",
      "Orthodoxy       2\n",
      "Baptist         1\n",
      "Name: Religion, dtype: int64\n",
      "\n",
      "Christian    3585\n",
      "None         2965\n",
      "Child        1883\n",
      "Muslim        114\n",
      "Sikh           81\n",
      "Jewish         27\n",
      "Private         3\n",
      "Buddist         2\n",
      "Name: Religion, dtype: int64\n"
     ]
    }
   ],
   "source": [
    "print(christian_breakdown_df['Religion'].value_counts())\n",
    "#inspecting the raw values \n",
    "print('')\n",
    "print(standard_df['Religion'].value_counts())\n",
    "#inspecting values now christianity is considered one "
   ]
  },
  {
   "cell_type": "code",
   "execution_count": 74,
   "id": "0d1a0f01",
   "metadata": {},
   "outputs": [
    {
     "name": "stdout",
     "output_type": "stream",
     "text": [
      " Mean: Religion\n",
      "Baptist      31.000000\n",
      "Buddist      36.500000\n",
      "Catholic     43.585317\n",
      "Child         9.005842\n",
      "Christian    51.257286\n",
      "Jewish       44.555556\n",
      "Methodist    47.178082\n",
      "Muslim       35.850877\n",
      "None         42.551096\n",
      "Orthodoxy    31.000000\n",
      "Private      63.666667\n",
      "Sikh         35.888889\n",
      "Name: Age, dtype: float64\n",
      " Median: Religion\n",
      "Baptist      31.0\n",
      "Buddist      36.5\n",
      "Catholic     41.5\n",
      "Child         9.0\n",
      "Christian    53.0\n",
      "Jewish       44.0\n",
      "Methodist    44.5\n",
      "Muslim       31.0\n",
      "None         40.0\n",
      "Orthodoxy    31.0\n",
      "Private      80.0\n",
      "Sikh         31.0\n",
      "Name: Age, dtype: float64\n",
      "Mode: Religion\n",
      "Baptist      31\n",
      "Buddist      36\n",
      "Catholic     40\n",
      "Child        10\n",
      "Christian    57\n",
      "Jewish       44\n",
      "Methodist    49\n",
      "Muslim       25\n",
      "None         32\n",
      "Orthodoxy    33\n",
      "Private      28\n",
      "Sikh         22\n",
      "Name: Age, dtype: int64\n",
      "Christian breakdown mean: Religion\n",
      "Buddist      36.500000\n",
      "Child         9.005842\n",
      "Christian    48.418689\n",
      "Jewish       44.555556\n",
      "Muslim       35.850877\n",
      "None         42.551096\n",
      "Private      63.666667\n",
      "Sikh         35.888889\n",
      "Name: Age, dtype: float64\n",
      "Christian breakdown median: Religion\n",
      "Buddist      36.5\n",
      "Child         9.0\n",
      "Christian    47.0\n",
      "Jewish       44.0\n",
      "Muslim       31.0\n",
      "None         40.0\n",
      "Private      80.0\n",
      "Sikh         31.0\n",
      "Name: Age, dtype: float64\n",
      "Christian breakdown mode: Religion\n",
      "Buddist      36\n",
      "Child        10\n",
      "Christian    40\n",
      "Jewish       44\n",
      "Muslim       25\n",
      "None         32\n",
      "Private      28\n",
      "Sikh         22\n",
      "Name: Age, dtype: int64\n"
     ]
    }
   ],
   "source": [
    "print(f\" Mean: {christian_breakdown_df.groupby(['Religion'])['Age'].mean()}\")\n",
    "#reference https://datascienceparichay.com/article/pandas-groupby-mean/\n",
    "print(f\" Median: {christian_breakdown_df.groupby(['Religion'])['Age'].median()}\")\n",
    "print(f\"Mode: {christian_breakdown_df.groupby(['Religion'])['Age'].agg(lambda x:x.value_counts().index[0])}\")\n",
    "#https://www.statology.org/pandas-groupby-mode/\n",
    "print(f\"Christian breakdown mean: {standard_df.groupby(['Religion'])['Age'].mean()}\")\n",
    "print(f\"Christian breakdown median: {standard_df.groupby(['Religion'])['Age'].median()}\")\n",
    "print(f\"Christian breakdown mode: {standard_df.groupby(['Religion'])['Age'].agg(lambda x:x.value_counts().index[0])}\")\n",
    "#printing descriptive statistics of the average age of each religion"
   ]
  },
  {
   "cell_type": "code",
   "execution_count": 75,
   "id": "b8d5329c",
   "metadata": {},
   "outputs": [
    {
     "name": "stdout",
     "output_type": "stream",
     "text": [
      "None         34.237875\n",
      "Christian    22.979215\n",
      "Child        21.743649\n",
      "Catholic     11.639723\n",
      "Methodist     6.743649\n",
      "Muslim        1.316397\n",
      "Sikh          0.935335\n",
      "Jewish        0.311778\n",
      "Private       0.034642\n",
      "Buddist       0.023095\n",
      "Orthodoxy     0.023095\n",
      "Baptist       0.011547\n",
      "Name: Religion, dtype: float64\n"
     ]
    },
    {
     "data": {
      "text/plain": [
       "Christian    41.397229\n",
       "None         34.237875\n",
       "Child        21.743649\n",
       "Muslim        1.316397\n",
       "Sikh          0.935335\n",
       "Jewish        0.311778\n",
       "Private       0.034642\n",
       "Buddist       0.023095\n",
       "Name: Religion, dtype: float64"
      ]
     },
     "execution_count": 75,
     "metadata": {},
     "output_type": "execute_result"
    }
   ],
   "source": [
    "print(christian_breakdown_df['Religion'].value_counts(normalize = True)*100)\n",
    "standard_df['Religion'].value_counts(normalize = True)*100\n",
    "#printing percentage composition of religion"
   ]
  },
  {
   "attachments": {},
   "cell_type": "markdown",
   "id": "b6f6235e",
   "metadata": {},
   "source": [
    "Infirmity"
   ]
  },
  {
   "cell_type": "code",
   "execution_count": 76,
   "id": "debe6d2a",
   "metadata": {},
   "outputs": [
    {
     "name": "stdout",
     "output_type": "stream",
     "text": [
      "None                   8590\n",
      "Physical Disability      19\n",
      "Disabled                 14\n",
      "Blind                    10\n",
      "                          9\n",
      "Mental Disability         8\n",
      "Deaf                      6\n",
      "Unknown Infection         4\n",
      "Name: Infirmity, dtype: int64\n",
      "['None' 'Physical Disability' 'Unspecified' 'Mental Disability' 'Blind'\n",
      " 'Deaf' 'Disabled' 'Unknown Infection']\n"
     ]
    }
   ],
   "source": [
    "print(standard_df['Infirmity'].value_counts())\n",
    "#finding the values of infirmity\n",
    "standard_df['Infirmity'] = standard_df['Infirmity'].replace([' '], ['Unspecified'])\n",
    "#replacing blanks\n",
    "print(standard_df['Infirmity'].unique())\n",
    "#confirming data is correct"
   ]
  },
  {
   "attachments": {},
   "cell_type": "markdown",
   "id": "71759787",
   "metadata": {},
   "source": [
    "Birth and death rate "
   ]
  },
  {
   "cell_type": "code",
   "execution_count": 77,
   "id": "92d39fa3",
   "metadata": {},
   "outputs": [
    {
     "name": "stdout",
     "output_type": "stream",
     "text": [
      "      Age  Male  Female  Total\n",
      "0     0-9   492     455    947\n",
      "1   10-19   591     537   1128\n",
      "2   20-29   570     571   1141\n",
      "3   30-39   621     666   1287\n",
      "4   40-49   616     679   1295\n",
      "5   50-59   491     495    986\n",
      "6   60-69   343     327    670\n",
      "7   70-79   264     240    504\n",
      "8   80-89   102     123    225\n",
      "9   90-99    15      15     30\n",
      "10   100+     7       4     11\n"
     ]
    }
   ],
   "source": [
    "age_p_normalised = age_p\n",
    "age_p_normalised['Male'] = age_p['Male']*-1\n",
    "age_p_normalised['Total'] = age_p['Male'] + age_p['Female']\n",
    "print(age_p_normalised)\n",
    "#taking population pyramid data and adding the total \n",
    "#column whilst making the male data positive again"
   ]
  },
  {
   "cell_type": "code",
   "execution_count": 78,
   "id": "01da5135",
   "metadata": {},
   "outputs": [
    {
     "name": "stdout",
     "output_type": "stream",
     "text": [
      "Total Birth Rate Presently\n",
      "11.515077821011673\n",
      "Total Birth Rate 10 Years Ago\n",
      "15.500893225230177\n",
      "Death rate\n",
      "3.501945525291829\n"
     ]
    }
   ],
   "source": [
    "\n",
    "\n",
    "print('Total Birth Rate Presently')\n",
    "print((age_p_normalised['Total'][0])/(age_p_normalised['Total'].sum()/1000)/10)\n",
    "#calculating current birth rate (last 10 years)\n",
    "print('Total Birth Rate 10 Years Ago')\n",
    "print((age_p_normalised['Total'][1])/((age_p_normalised['Total'].sum()-age_p_normalised['Total'][0])/1000)/10)\n",
    "#calculating birth rate from 10 years before\n",
    "death_rate = []\n",
    "final_death_rate=[]\n",
    "print('Death rate')\n",
    "for i in range(len(age_p_normalised['Age'])):\n",
    "    if i>=6:\n",
    "        death_rate.append(age_p_normalised['Total'][i])\n",
    "#singling out individuals over 60\n",
    "for i in range(len(death_rate)):\n",
    "    final_death_rate.append((death_rate[i]/((age_p_normalised['Total'].sum())/1000)/10))\n",
    "#calculating death rate for those over 60\n",
    "print(mean(final_death_rate))  "
   ]
  },
  {
   "attachments": {},
   "cell_type": "markdown",
   "id": "d64e6046",
   "metadata": {},
   "source": [
    "visualisation"
   ]
  },
  {
   "cell_type": "code",
   "execution_count": 79,
   "id": "32c528d2",
   "metadata": {},
   "outputs": [],
   "source": [
    "adults_chirst_df = christian_breakdown_df[christian_breakdown_df.Age>=18]\n",
    "adults = standard_df[standard_df.Age >=18]\n",
    "#creating dataframes with only adults, one with all religions as reported\n",
    "#and one with all christians reported together"
   ]
  },
  {
   "cell_type": "code",
   "execution_count": 80,
   "id": "3e5fb75e",
   "metadata": {},
   "outputs": [
    {
     "data": {
      "image/png": "[encoded data removed]",
      "text/plain": [
       "<Figure size 640x480 with 1 Axes>"
      ]
     },
     "metadata": {},
     "output_type": "display_data"
    }
   ],
   "source": [
    "full_religion_hist = sns.histplot(y = adults_chirst_df['Religion'],\n",
    "                                  data = adults_chirst_df['Religion'],stat = 'percent', \n",
    "                                  color = 'coral')\n",
    "full_religion_hist.figure.savefig('./full_religion_hist.png')"
   ]
  },
  {
   "cell_type": "code",
   "execution_count": 81,
   "id": "995867a4",
   "metadata": {},
   "outputs": [
    {
     "data": {
      "image/png": "[encoded data removed]",
      "text/plain": [
       "<Figure size 640x480 with 1 Axes>"
      ]
     },
     "metadata": {},
     "output_type": "display_data"
    }
   ],
   "source": [
    "simple_religion_hist = sns.histplot(y = adults['Religion'],data = adults_chirst_df['Religion'],\n",
    "                                     color = 'coral', stat = 'percent')\n",
    "simple_religion_hist.figure.savefig('./simple_religion_hist.png')"
   ]
  },
  {
   "cell_type": "code",
   "execution_count": 82,
   "id": "4e7e09fc",
   "metadata": {},
   "outputs": [
    {
     "data": {
      "image/png": "[encoded data removed]",
      "text/plain": [
       "<Figure size 640x480 with 1 Axes>"
      ]
     },
     "metadata": {},
     "output_type": "display_data"
    }
   ],
   "source": [
    "employment_count = sns.countplot(x = standard_df['Employment_Status'], data = standard_df['Employment_Status'], color = 'purple')\n",
    "employment_count.figure.savefig('./employment_count.png')"
   ]
  },
  {
   "cell_type": "code",
   "execution_count": 83,
   "id": "436a38b5",
   "metadata": {},
   "outputs": [
    {
     "data": {
      "image/png": "[encoded data removed]",
      "text/plain": [
       "<Figure size 640x480 with 1 Axes>"
      ]
     },
     "metadata": {},
     "output_type": "display_data"
    }
   ],
   "source": [
    "two_gender_df = standard_df[standard_df.Gender != 'No Response']\n",
    "#creating a df without no response for gender for later analysis\n",
    "plt.xlabel = ('Employment Status')\n",
    "employment_hist = sns.histplot( two_gender_df[two_gender_df.Age>=18], \n",
    "                                      x= two_gender_df[two_gender_df.Age>=18]['Employment_Status'] ,hue = two_gender_df['Gender'], \n",
    "                                      stat=\"percent\",common_norm=False,multiple=\"dodge\", palette = 'bright')\n",
    "employment_hist.set(xlabel = ('Employment Status'))\n",
    "#https://www.statology.org/seaborn-axis-labels/\n",
    "employment_hist.figure.savefig('./employment_hist.png')"
   ]
  },
  {
   "cell_type": "code",
   "execution_count": 84,
   "id": "569bec5f",
   "metadata": {
    "scrolled": false
   },
   "outputs": [
    {
     "data": {
      "image/png": "[encoded data removed]",
      "text/plain": [
       "<Figure size 640x480 with 1 Axes>"
      ]
     },
     "metadata": {},
     "output_type": "display_data"
    }
   ],
   "source": [
    "occupancy_boxplot = sns.boxplot(x=standard_df['Occupancy'], y=standard_df['Age'],\n",
    "            data=standard_df)\n",
    "occupancy_boxplot.figure.savefig('./occupancy_boxplot.png')"
   ]
  },
  {
   "cell_type": "code",
   "execution_count": 85,
   "id": "b59ca873",
   "metadata": {},
   "outputs": [
    {
     "data": {
      "image/png": "[encoded data removed]",
      "text/plain": [
       "<Figure size 500x500 with 1 Axes>"
      ]
     },
     "metadata": {},
     "output_type": "display_data"
    }
   ],
   "source": [
    "standard_df['Simplified_relationship'] = standard_df['Relationship to Head of House'].replace(['Wife','Husband','Son', 'Daughter', 'Granddaughter', 'Grandson', 'Step-Son', 'Adopted Son', 'Adopted Daughter','Adopted Granddaughter', 'Step-Daughter', 'Adopted Grandson'],['Partner', 'Partner','Child', 'Child', 'Grandchild', 'Grandchild','Child', 'Child', 'Child', 'Grandchild', 'Child', 'Grandchild'])\n",
    "#creating another attribute which simplifies the relationship \n",
    "#to head of houshold catagory, conbining things like adopted children into \n",
    "#children\n",
    "Children_living_with_parents_displot = sns.displot( data = standard_df, x = standard_df['Age'], y = 'Employment_Status',\n",
    "            col = standard_df[standard_df.Simplified_relationship == 'Child']['Simplified_relationship'] \n",
    "            , color = 'Orange')\n",
    "Children_living_with_parents_displot.figure.savefig('./Children_living_with_parents_displot.png')"
   ]
  },
  {
   "cell_type": "code",
   "execution_count": 86,
   "id": "c80511c5",
   "metadata": {},
   "outputs": [
    {
     "name": "stderr",
     "output_type": "stream",
     "text": [
      "C:\\Users\\Matty\\AppData\\Local\\Temp\\ipykernel_20732\\3442539469.py:1: UserWarning: Boolean Series key will be reindexed to match DataFrame index.\n",
      "  Children_living_with_parents_hist = sns.histplot( standard_df, x= standard_df[standard_df.Occupancy<=8][standard_df.Simplified_relationship=='Child'][standard_df.Age>=18]['Occupancy'],\n"
     ]
    },
    {
     "data": {
      "image/png": "[encoded data removed]",
      "text/plain": [
       "<Figure size 640x480 with 1 Axes>"
      ]
     },
     "metadata": {},
     "output_type": "display_data"
    }
   ],
   "source": [
    "Children_living_with_parents_hist = sns.histplot( standard_df, x= standard_df[standard_df.Occupancy<=8][standard_df.Simplified_relationship=='Child'][standard_df.Age>=18]['Occupancy'],\n",
    "             color = 'orange')\n",
    "Children_living_with_parents_hist.figure.savefig('./Children_living_with_parents_hist.png')"
   ]
  },
  {
   "cell_type": "code",
   "execution_count": 87,
   "id": "69bef966",
   "metadata": {},
   "outputs": [
    {
     "data": {
      "image/png": "[encoded data removed]",
      "text/plain": [
       "<Figure size 640x480 with 1 Axes>"
      ]
     },
     "metadata": {},
     "output_type": "display_data"
    }
   ],
   "source": [
    "standard_df = standard_df.rename({\"Marital Status\": \"Marital_status\"}, axis = 1)\n",
    "\n",
    "marital_status_hist = sns.histplot( data = standard_df, x= standard_df[standard_df.Age >=18]['Age'],\n",
    "             stat=\"count\", binwidth = 10, hue = standard_df[standard_df.Marital_status != 'Child']['Marital_status'],\n",
    "             color = 'Orange', multiple=\"dodge\")\n",
    "marital_status_hist.set(xlabel = ('Employment Status'))\n",
    "marital_status_hist .figure.savefig('./marital_status_his.png')"
   ]
  },
  {
   "cell_type": "code",
   "execution_count": 88,
   "id": "ca30395b",
   "metadata": {},
   "outputs": [
    {
     "data": {
      "image/png": "[encoded data removed]",
      "text/plain": [
       "<Figure size 1000x1000 with 4 Axes>"
      ]
     },
     "metadata": {},
     "output_type": "display_data"
    }
   ],
   "source": [
    "age_occupancy_displot = sns.displot( data = standard_df, x = standard_df['Age'], y = 'Occupancy',\n",
    "            col = standard_df[standard_df.Marital_status != 'Child']['Marital_status'] \n",
    "            , color = 'Orange', col_wrap = 2)\n",
    "age_occupancy_displot.figure.savefig('./age_occupancy_displot.png')"
   ]
  }
 ],
 "metadata": {
  "kernelspec": {
   "display_name": "Python 3",
   "language": "python",
   "name": "python3"
  },
  "language_info": {
   "codemirror_mode": {
    "name": "ipython",
    "version": 3
   },
   "file_extension": ".py",
   "mimetype": "text/x-python",
   "name": "python",
   "nbconvert_exporter": "python",
   "pygments_lexer": "ipython3",
   "version": "3.11.2"
  },
  "vscode": {
   "interpreter": {
    "hash": "9ab3d2a8b8427fdd3bcf5fa519ba65f39039704c92bb2faab715b6fced92fb3e"
   }
  }
 },
 "nbformat": 4,
 "nbformat_minor": 5
}
