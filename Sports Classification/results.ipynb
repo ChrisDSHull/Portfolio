{
 "cells": [
  {
   "attachments": {},
   "cell_type": "markdown",
   "metadata": {},
   "source": [
    "### Data prep"
   ]
  },
  {
   "cell_type": "code",
   "execution_count": 1,
   "metadata": {},
   "outputs": [],
   "source": [
    "import matplotlib.pyplot as plt\n",
    "import numpy as np\n",
    "import os\n",
    "import PIL\n",
    "import tensorflow as tf\n",
    "from tensorflow import keras\n",
    "from tensorflow.keras import layers\n",
    "from tensorflow.keras.models import Sequential\n",
    "import pathlib\n",
    "import glob as glob\n",
    "import pandas as pd\n",
    "from keras.models import load_model\n",
    "import seaborn as sns\n",
    "#importing required modules"
   ]
  },
  {
   "cell_type": "code",
   "execution_count": 2,
   "metadata": {},
   "outputs": [
    {
     "name": "stdout",
     "output_type": "stream",
     "text": [
      "./test\n"
     ]
    }
   ],
   "source": [
    "test_dir = './test'\n",
    "#setting directory in this folder\n",
    "print(test_dir)\n",
    "#printing directories to be sure\n",
    "IMG_SIZE = (224, 224)\n",
    "#setting resultion for later"
   ]
  },
  {
   "cell_type": "code",
   "execution_count": 3,
   "metadata": {},
   "outputs": [
    {
     "name": "stdout",
     "output_type": "stream",
     "text": [
      "Found 500 files belonging to 100 classes.\n"
     ]
    }
   ],
   "source": [
    "batch_size = 150\n",
    "#setting bach size\n",
    "img_height = 224\n",
    "img_width = 224\n",
    "#setting height and width seperatly\n",
    "test_dataset = tf.keras.preprocessing.image_dataset_from_directory(\n",
    "test_dir,\n",
    "seed=123,\n",
    "#splitting training ds and testing ds with the same seed to it can be replicated\n",
    "image_size=(img_height, img_width),\n",
    "#setting image size\n",
    "batch_size=batch_size)\n",
    "#setting parameters of test data to match training data"
   ]
  },
  {
   "cell_type": "code",
   "execution_count": 6,
   "metadata": {},
   "outputs": [],
   "source": [
    "vgg_model = load_model('.vgg_model')\n",
    "adam_model = load_model('.adam_model')\n",
    "RMSprop_model = load_model('.RMSprop_model')\n",
    "mobilenetv2_model = load_model('.mobilenetv2_model')\n",
    "resnet_model = load_model('.resnet_model')\n",
    "models = {'VGG-16': vgg_model, 'adam': adam_model, 'RMSprop' : RMSprop_model, 'Mobilenet v2' : mobilenetv2_model, 'Resnet-50' : resnet_model}\n",
    "#loading in previously generated models and adding to dictionary "
   ]
  },
  {
   "attachments": {},
   "cell_type": "markdown",
   "metadata": {},
   "source": [
    "### Results"
   ]
  },
  {
   "cell_type": "code",
   "execution_count": 7,
   "metadata": {},
   "outputs": [],
   "source": [
    "def evaluate_dict (model_dict):\n",
    "    results_df = pd.DataFrame()\n",
    "    for k,v in model_dict.items():\n",
    "        print(k)\n",
    "        results_df[k] = v.evaluate(test_dataset)\n",
    "    return (results_df)\n",
    "#function to evaluate the dictionary of models and report findings "
   ]
  },
  {
   "cell_type": "code",
   "execution_count": 28,
   "metadata": {},
   "outputs": [
    {
     "name": "stdout",
     "output_type": "stream",
     "text": [
      "VGG-16\n",
      "4/4 [==============================] - 43s 10s/step - loss: 0.3106 - accuracy: 0.9260\n",
      "adam\n",
      "4/4 [==============================] - 12s 3s/step - loss: 1.5943 - accuracy: 0.5600\n",
      "RMSprop\n",
      "4/4 [==============================] - 12s 3s/step - loss: 1.7119 - accuracy: 0.5520\n",
      "Mobilenet v2\n",
      "4/4 [==============================] - 6s 1s/step - loss: 0.3637 - accuracy: 0.9360\n",
      "Resnet-50\n",
      "4/4 [==============================] - 19s 4s/step - loss: 0.2318 - accuracy: 0.9520\n"
     ]
    }
   ],
   "source": [
    "results = evaluate_dict(models)\n",
    "#reporting the findings "
   ]
  },
  {
   "cell_type": "code",
   "execution_count": 29,
   "metadata": {},
   "outputs": [
    {
     "name": "stdout",
     "output_type": "stream",
     "text": [
      "     VGG-16      adam   RMSprop  Mobilenet v2  Resnet-50\n",
      "0  0.310597  1.594309  1.711928      0.363664   0.231789\n",
      "1  0.926000  0.560000  0.552000      0.936000   0.952000\n"
     ]
    }
   ],
   "source": [
    "print(results)\n",
    "#checking findings"
   ]
  },
  {
   "cell_type": "code",
   "execution_count": 43,
   "metadata": {},
   "outputs": [],
   "source": [
    "results =results.rename(index={0:'loss',1: 'accuracy'})\n",
    "results\n",
    "results_df_transposed = results.T\n",
    "#reindexing and transposing the data so it is easier to looka t \n"
   ]
  },
  {
   "cell_type": "code",
   "execution_count": 44,
   "metadata": {},
   "outputs": [],
   "source": [
    "results_df_transposed['model'] = results_df_transposed.index\n",
    "#reindexing to add the model column for the plots\n"
   ]
  },
  {
   "cell_type": "code",
   "execution_count": 45,
   "metadata": {},
   "outputs": [
    {
     "data": {
      "text/html": [
       "<div>\n",
       "<style scoped>\n",
       "    .dataframe tbody tr th:only-of-type {\n",
       "        vertical-align: middle;\n",
       "    }\n",
       "\n",
       "    .dataframe tbody tr th {\n",
       "        vertical-align: top;\n",
       "    }\n",
       "\n",
       "    .dataframe thead th {\n",
       "        text-align: right;\n",
       "    }\n",
       "</style>\n",
       "<table border=\"1\" class=\"dataframe\">\n",
       "  <thead>\n",
       "    <tr style=\"text-align: right;\">\n",
       "      <th></th>\n",
       "      <th>loss</th>\n",
       "      <th>accuracy</th>\n",
       "      <th>model</th>\n",
       "    </tr>\n",
       "  </thead>\n",
       "  <tbody>\n",
       "    <tr>\n",
       "      <th>VGG-16</th>\n",
       "      <td>0.310597</td>\n",
       "      <td>0.926</td>\n",
       "      <td>VGG-16</td>\n",
       "    </tr>\n",
       "    <tr>\n",
       "      <th>adam</th>\n",
       "      <td>1.594309</td>\n",
       "      <td>0.560</td>\n",
       "      <td>adam</td>\n",
       "    </tr>\n",
       "    <tr>\n",
       "      <th>RMSprop</th>\n",
       "      <td>1.711928</td>\n",
       "      <td>0.552</td>\n",
       "      <td>RMSprop</td>\n",
       "    </tr>\n",
       "    <tr>\n",
       "      <th>Mobilenet v2</th>\n",
       "      <td>0.363664</td>\n",
       "      <td>0.936</td>\n",
       "      <td>Mobilenet v2</td>\n",
       "    </tr>\n",
       "    <tr>\n",
       "      <th>Resnet-50</th>\n",
       "      <td>0.231789</td>\n",
       "      <td>0.952</td>\n",
       "      <td>Resnet-50</td>\n",
       "    </tr>\n",
       "  </tbody>\n",
       "</table>\n",
       "</div>"
      ],
      "text/plain": [
       "                  loss  accuracy         model\n",
       "VGG-16        0.310597     0.926        VGG-16\n",
       "adam          1.594309     0.560          adam\n",
       "RMSprop       1.711928     0.552       RMSprop\n",
       "Mobilenet v2  0.363664     0.936  Mobilenet v2\n",
       "Resnet-50     0.231789     0.952     Resnet-50"
      ]
     },
     "execution_count": 45,
     "metadata": {},
     "output_type": "execute_result"
    }
   ],
   "source": [
    "results_df_transposed\n",
    "#checking data again"
   ]
  },
  {
   "attachments": {},
   "cell_type": "markdown",
   "metadata": {},
   "source": [
    "### plots"
   ]
  },
  {
   "cell_type": "code",
   "execution_count": 46,
   "metadata": {},
   "outputs": [
    {
     "data": {
      "image/png": "[encoded data removed]",
      "text/plain": [
       "<Figure size 640x480 with 1 Axes>"
      ]
     },
     "metadata": {},
     "output_type": "display_data"
    }
   ],
   "source": [
    "sns.barplot(data=results_df_transposed, x=\"model\", y=\"accuracy\",dodge='True')\n",
    "plt.savefig('.accuracy for models')\n",
    "#printing and saving accuracy figure"
   ]
  },
  {
   "cell_type": "code",
   "execution_count": 47,
   "metadata": {},
   "outputs": [
    {
     "data": {
      "image/png": "[encoded data removed]",
      "text/plain": [
       "<Figure size 640x480 with 1 Axes>"
      ]
     },
     "metadata": {},
     "output_type": "display_data"
    }
   ],
   "source": [
    "sns.barplot(data=results_df_transposed, x=\"model\", y=\"loss\",dodge='True')\n",
    "plt.savefig('.loss for models')\n",
    "#printing and saving loss figure "
   ]
  },
  {
   "cell_type": "code",
   "execution_count": null,
   "metadata": {},
   "outputs": [],
   "source": []
  }
 ],
 "metadata": {
  "kernelspec": {
   "display_name": "Python 3.10.6 64-bit",
   "language": "python",
   "name": "python3"
  },
  "language_info": {
   "codemirror_mode": {
    "name": "ipython",
    "version": 3
   },
   "file_extension": ".py",
   "mimetype": "text/x-python",
   "name": "python",
   "nbconvert_exporter": "python",
   "pygments_lexer": "ipython3",
   "version": "3.11.2"
  },
  "orig_nbformat": 4,
  "vscode": {
   "interpreter": {
    "hash": "26de051ba29f2982a8de78e945f0abaf191376122a1563185a90213a26c5da77"
   }
  }
 },
 "nbformat": 4,
 "nbformat_minor": 2
}
